{
 "cells": [
  {
   "cell_type": "code",
   "execution_count": 1,
   "metadata": {
    "collapsed": false,
    "deletable": true,
    "editable": true
   },
   "outputs": [
    {
     "name": "stderr",
     "output_type": "stream",
     "text": [
      "Using TensorFlow backend.\n"
     ]
    },
    {
     "name": "stdout",
     "output_type": "stream",
     "text": [
      "Corpus length: 501470\n",
      "Number of unique characters: 93\n",
      "\n",
      "One-hot encoding of input...\n",
      "Number of examples: 20058\n"
     ]
    }
   ],
   "source": [
    "from keras.callbacks import EarlyStopping,ReduceLROnPlateau\n",
    "from keras.layers import Dense, Activation, Dropout\n",
    "from keras.utils.data_utils import get_file\n",
    "from keras.layers import SimpleRNN, Lambda\n",
    "from __future__ import print_function\n",
    "from keras.models import Sequential\n",
    "import matplotlib.pyplot as plt\n",
    "from keras.models import Model\n",
    "import numpy as np\n",
    "import random\n",
    "import sys\n",
    "\n",
    "# Read input file\n",
    "\n",
    "path = 'input.txt'\n",
    "text = open(path).read()\n",
    "print('Corpus length:', len(text))\n",
    "\n",
    "# Number of characters in vocabulary\n",
    "\n",
    "chars = set(text)\n",
    "print('Number of unique characters:', len(chars))\n",
    "\n",
    "char_indices = dict((c, i) for i, c in enumerate(chars))\n",
    "indices_char = dict((i, c) for i, c in enumerate(chars))\n",
    "\n",
    "# Create training set\n",
    "\n",
    "maxlen = 25\n",
    "step = 25\n",
    "sentences = []\n",
    "out_sent = []\n",
    "next_chars = []\n",
    "\n",
    "for i in range(0, len(text) - maxlen - 1, step):\n",
    "    sentences.append(text[i: i + maxlen])\n",
    "    out_sent.append(text[i + 1: i + maxlen + 1])\n",
    "    next_chars.append(text[i + maxlen])\n",
    "nEg = len(sentences)\n",
    "print(\"\")\n",
    "\n",
    "# One-hot encoding of input\n",
    "\n",
    "print('One-hot encoding of input...')\n",
    "\n",
    "X = np.zeros((len(sentences), maxlen, len(chars)), dtype = np.bool)\n",
    "y = np.zeros((len(sentences), len(chars)), dtype=np.bool)\n",
    "for i, sentence in enumerate(sentences):\n",
    "    for t, char in enumerate(sentence):\n",
    "        X[i, t, char_indices[char]] = 1\n",
    "    y[i, char_indices[next_chars[i]]] = 1\n",
    "        \n",
    "Y = np.zeros((len(out_sent), maxlen, len(chars)), dtype = np.bool)\n",
    "for i, sentence in enumerate(out_sent):\n",
    "    for t, char in enumerate(sentence):\n",
    "        Y[i, t, char_indices[char]] = 1\n",
    "        \n",
    "print('Number of examples:', nEg)"
   ]
  },
  {
   "cell_type": "code",
   "execution_count": 2,
   "metadata": {
    "collapsed": false,
    "deletable": true,
    "editable": true
   },
   "outputs": [
    {
     "name": "stdout",
     "output_type": "stream",
     "text": [
      "Building model...\n",
      "____________________________________________________________________________________________________\n",
      "Layer (type)                     Output Shape          Param #     Connected to                     \n",
      "====================================================================================================\n",
      "simplernn_1 (SimpleRNN)          (None, 25, 100)       19400       simplernn_input_1[0][0]          \n",
      "____________________________________________________________________________________________________\n",
      "dense_1 (Dense)                  (None, 25, 93)        9393        simplernn_1[0][0]                \n",
      "====================================================================================================\n",
      "Total params: 28,793\n",
      "Trainable params: 28,793\n",
      "Non-trainable params: 0\n",
      "____________________________________________________________________________________________________\n"
     ]
    }
   ],
   "source": [
    "print('Building model...')\n",
    "\n",
    "# Network parameters\n",
    "\n",
    "nHiddenUnits = 100\n",
    "dropout = 0.0\n",
    "T = 1\n",
    "grad_optimizer = 'rmsprop'\n",
    "\n",
    "# Model of our RNN\n",
    "\n",
    "model = Sequential()\n",
    "model.add(SimpleRNN(nHiddenUnits, input_shape = (maxlen, len(chars)), return_sequences = True, dropout_W = 0.0, dropout_U = dropout))\n",
    "model.add(Dense(len(chars), activation='softmax'))\n",
    "model.summary()\n",
    "\n",
    "model.compile(loss='categorical_crossentropy', optimizer=grad_optimizer, metrics=['accuracy'])"
   ]
  },
  {
   "cell_type": "code",
   "execution_count": 3,
   "metadata": {
    "collapsed": false,
    "deletable": true,
    "editable": true
   },
   "outputs": [
    {
     "name": "stdout",
     "output_type": "stream",
     "text": [
      "Training...\n",
      "Train on 16046 samples, validate on 4012 samples\n",
      "Epoch 1/30\n",
      "24s - loss: 2.9560 - acc: 0.2647 - val_loss: 2.5595 - val_acc: 0.2932\n",
      "Epoch 2/30\n",
      "24s - loss: 2.2706 - acc: 0.3987 - val_loss: 2.3181 - val_acc: 0.3406\n",
      "Epoch 3/30\n",
      "23s - loss: 2.0870 - acc: 0.4317 - val_loss: 2.2123 - val_acc: 0.3617\n",
      "Epoch 4/30\n",
      "24s - loss: 1.9900 - acc: 0.4497 - val_loss: 2.1354 - val_acc: 0.3817\n",
      "Epoch 5/30\n",
      "26s - loss: 1.9267 - acc: 0.4619 - val_loss: 2.1015 - val_acc: 0.3847\n",
      "Epoch 6/30\n",
      "24s - loss: 1.8819 - acc: 0.4705 - val_loss: 2.0613 - val_acc: 0.3960\n",
      "Epoch 7/30\n",
      "23s - loss: 1.8480 - acc: 0.4772 - val_loss: 2.0421 - val_acc: 0.3979\n",
      "Epoch 8/30\n",
      "25s - loss: 1.8220 - acc: 0.4822 - val_loss: 2.0338 - val_acc: 0.4008\n",
      "Epoch 9/30\n",
      "25s - loss: 1.8005 - acc: 0.4867 - val_loss: 2.0416 - val_acc: 0.4011\n",
      "Epoch 10/30\n",
      "23s - loss: 1.7814 - acc: 0.4903 - val_loss: 2.0064 - val_acc: 0.4122\n",
      "Epoch 11/30\n",
      "25s - loss: 1.7653 - acc: 0.4937 - val_loss: 1.9997 - val_acc: 0.4104\n",
      "Epoch 12/30\n",
      "24s - loss: 1.7512 - acc: 0.4969 - val_loss: 1.9884 - val_acc: 0.4112\n",
      "Epoch 13/30\n",
      "24s - loss: 1.7379 - acc: 0.5000 - val_loss: 1.9817 - val_acc: 0.4148\n",
      "Epoch 14/30\n",
      "24s - loss: 1.7265 - acc: 0.5023 - val_loss: 1.9828 - val_acc: 0.4148\n",
      "Epoch 15/30\n",
      "27s - loss: 1.7162 - acc: 0.5045 - val_loss: 1.9766 - val_acc: 0.4167\n",
      "Epoch 16/30\n",
      "26s - loss: 1.7069 - acc: 0.5069 - val_loss: 1.9570 - val_acc: 0.4216\n",
      "Epoch 17/30\n",
      "24s - loss: 1.6974 - acc: 0.5089 - val_loss: 1.9471 - val_acc: 0.4216\n",
      "Epoch 18/30\n",
      "25s - loss: 1.6900 - acc: 0.5102 - val_loss: 1.9415 - val_acc: 0.4193\n",
      "Epoch 19/30\n",
      "25s - loss: 1.6825 - acc: 0.5123 - val_loss: 1.9360 - val_acc: 0.4249\n",
      "Epoch 20/30\n",
      "24s - loss: 1.6753 - acc: 0.5143 - val_loss: 1.9654 - val_acc: 0.4230\n",
      "Epoch 21/30\n",
      "25s - loss: 1.6694 - acc: 0.5147 - val_loss: 1.9363 - val_acc: 0.4231\n",
      "Epoch 22/30\n",
      "24s - loss: 1.6635 - acc: 0.5167 - val_loss: 1.9252 - val_acc: 0.4278\n",
      "Epoch 23/30\n",
      "25s - loss: 1.6576 - acc: 0.5183 - val_loss: 1.9474 - val_acc: 0.4221\n",
      "Epoch 24/30\n",
      "24s - loss: 1.6520 - acc: 0.5192 - val_loss: 1.9289 - val_acc: 0.4312\n",
      "Epoch 25/30\n",
      "25s - loss: 1.6474 - acc: 0.5202 - val_loss: 1.9060 - val_acc: 0.4325\n",
      "Epoch 26/30\n",
      "24s - loss: 1.6426 - acc: 0.5214 - val_loss: 1.9173 - val_acc: 0.4274\n",
      "Epoch 27/30\n",
      "24s - loss: 1.6380 - acc: 0.5231 - val_loss: 1.9202 - val_acc: 0.4285\n",
      "Epoch 28/30\n",
      "24s - loss: 1.6338 - acc: 0.5244 - val_loss: 1.8964 - val_acc: 0.4333\n",
      "Epoch 29/30\n",
      "24s - loss: 1.6298 - acc: 0.5248 - val_loss: 1.9442 - val_acc: 0.4276\n",
      "Epoch 30/30\n",
      "24s - loss: 1.6253 - acc: 0.5249 - val_loss: 1.8974 - val_acc: 0.4347\n",
      "{'loss': [2.9559892890133286, 2.2706458929336, 2.086993181273094, 1.9899864517422547, 1.9267269044122717, 1.8819424743205402, 1.8479785845045822, 1.8220080376325158, 1.8005050632791093, 1.7814491031236159, 1.7653094825045688, 1.7512437179025295, 1.7379473399361158, 1.7264773390558492, 1.7161825157290576, 1.7069372469151864, 1.6973651537763854, 1.6899970714608794, 1.6825248381004776, 1.675278943657474, 1.6694322868756311, 1.6634647390216304, 1.6575629178327351, 1.6519874588414705, 1.6474301681455554, 1.6425846310070769, 1.637981996339529, 1.6338325304148813, 1.6298335755716813, 1.625337227716509], 'val_acc': [0.29315054785099959, 0.34057826398020369, 0.36166500661926992, 0.38172482650871886, 0.38474576215325657, 0.39595214438699894, 0.39790628358706875, 0.40079760732703051, 0.401076769246418, 0.41215354011042166, 0.41043868393508176, 0.41123629154141617, 0.41482552493795205, 0.4147956141327338, 0.41666999034368146, 0.42157527456730454, 0.42157527447816501, 0.41928215388762036, 0.42485543467468423, 0.42296111815472542, 0.42310069731677163, 0.42783649112743249, 0.42207377911327132, 0.43118643998386613, 0.43246261334252856, 0.42741774790664971, 0.42846460713227746, 0.43327018888973645, 0.42764705761242006, 0.43466600130942623], 'val_loss': [2.5595257462913232, 2.3181053779179885, 2.2122999754170714, 2.1354421355788515, 2.1015361668699879, 2.0613449550459415, 2.0421489638797308, 2.0337901348368832, 2.0416261925179127, 2.0063508149990414, 1.999721261344902, 1.9884301245747393, 1.9816560968682393, 1.9827999037022843, 1.9766048020641445, 1.9570191898944964, 1.9471111567403121, 1.9415262695086204, 1.9359611837362363, 1.9653593092592263, 1.936334316062547, 1.9251765838767572, 1.9473965951238768, 1.9288940069563725, 1.9060179615543704, 1.9173035093936939, 1.9202347815571612, 1.896376624896543, 1.9441629467552466, 1.8973549266874137], 'acc': [0.26473887546110314, 0.39870123441686184, 0.43170883750122085, 0.44971457078809618, 0.46186463970741576, 0.47053720648190961, 0.47724292811856489, 0.48223358023483143, 0.48670821531327396, 0.49025551686333879, 0.4937180625327014, 0.4968814670697837, 0.49998504467235155, 0.50228094278272806, 0.50447712910527465, 0.50689019140394254, 0.50886700807642371, 0.51021064530580285, 0.51230961124483643, 0.51431883520338872, 0.51474012360004628, 0.51671195536142389, 0.51827496027212461, 0.51924716486503519, 0.52021438501488315, 0.52141343811778795, 0.52310108426769342, 0.52437741607409027, 0.52480618383586375, 0.52491337610690747]}\n",
      "Training done!\n"
     ]
    }
   ],
   "source": [
    "print('Training...')\n",
    "hist = model.fit(X, Y, batch_size = 32, nb_epoch = 30, verbose = 2, validation_split = 0.2, shuffle = True)\n",
    "print(hist.history)\n",
    "\n",
    "print('Training done!')"
   ]
  },
  {
   "cell_type": "code",
   "execution_count": 19,
   "metadata": {
    "collapsed": false,
    "deletable": true,
    "editable": true
   },
   "outputs": [
    {
     "name": "stdout",
     "output_type": "stream",
     "text": [
      "Final training statistics [1.7033148487634799, 0.50459866407136522]\n",
      "Final cross-validation statistics [1.7023146308193415, 0.50591226556484148]\n"
     ]
    }
   ],
   "source": [
    "score = model.evaluate(X, Y, verbose = 0)\n",
    "print(\"Final training statistics\", score)"
   ]
  },
  {
   "cell_type": "code",
   "execution_count": 4,
   "metadata": {
    "collapsed": false,
    "deletable": true,
    "editable": true
   },
   "outputs": [],
   "source": [
    "def sample(preds, temperature=1.0):\n",
    "    # helper function to sample an index from a probability array\n",
    "    preds = np.asarray(preds).astype('float64')\n",
    "    preds = np.log(preds) / temperature\n",
    "    exp_preds = np.exp(preds)\n",
    "    preds = exp_preds / np.sum(exp_preds)\n",
    "    probas = np.random.multinomial(1, preds, 1)\n",
    "    return np.argmax(probas)"
   ]
  },
  {
   "cell_type": "code",
   "execution_count": 5,
   "metadata": {
    "collapsed": true,
    "deletable": true,
    "editable": true
   },
   "outputs": [],
   "source": [
    "# finding position of seed \"<start>\"\n",
    "\n",
    "count = 0\n",
    "pos_start = []\n",
    "start = 0\n",
    "while count < 1000:\n",
    "    index = text.find('<start>', start, len(text))\n",
    "    pos_start.append(index)\n",
    "    start = index + 1\n",
    "    count += 1"
   ]
  },
  {
   "cell_type": "code",
   "execution_count": 7,
   "metadata": {
    "collapsed": false,
    "deletable": true,
    "editable": true
   },
   "outputs": [
    {
     "name": "stdout",
     "output_type": "stream",
     "text": [
      "Composing music...\n",
      "\n",
      "Music generated!\n"
     ]
    }
   ],
   "source": [
    "# Open file to be write music in\n",
    "\n",
    "f = open('musicgenout.txt','w')\n",
    "temperature = 1\n",
    "\n",
    "# Compose music\n",
    "print('Composing music...')\n",
    "for iteration in range(1):\n",
    "    rand_index = np.random.randint(len(pos_start))\n",
    "    start_index = pos_start[rand_index]\n",
    "\n",
    "    print()\n",
    "    generated = ''\n",
    "\n",
    "    # \"Prime\" with random seed\n",
    "    sentence = text[start_index: start_index + maxlen]\n",
    "    generated += sentence\n",
    "    f.write(generated)\n",
    "\n",
    "    # Generate music using feedback in RNN\n",
    "    for i in range(2000):\n",
    "        x = np.zeros((1, maxlen, len(chars)))\n",
    "\n",
    "        # Make input vector\n",
    "        for t, char in enumerate(sentence):\n",
    "            x[0, t, char_indices[char]] = 1\n",
    "        \n",
    "        # Generate next characters\n",
    "        pred_chars = ''\n",
    "        preds = model.predict(x, verbose=0)[0]\n",
    "        next_index = sample(preds[-1], temperature)\n",
    "        next_char = indices_char[next_index]\n",
    "        f.write(next_char)\n",
    "        generated += next_char\n",
    "\n",
    "        # Feedback to input\n",
    "        sentence = sentence[1:] + next_char\n",
    "    f.write('\\n\\n')\n",
    "f.close()\n",
    "print('Music generated!')"
   ]
  },
  {
   "cell_type": "code",
   "execution_count": 10,
   "metadata": {
    "collapsed": false,
    "deletable": true,
    "editable": true
   },
   "outputs": [
    {
     "data": {
      "image/png": "[encoded data removed]",
      "text/plain": [
       "<matplotlib.figure.Figure at 0x20beef203c8>"
      ]
     },
     "metadata": {},
     "output_type": "display_data"
    }
   ],
   "source": [
    "output_layer = model.layers[0].output\n",
    "activationModel = Model(input = model.input, output = output_layer)\n",
    "\n",
    "pred_arr = []\n",
    "labels = []\n",
    "\n",
    "start = random.randint(0,len(text)-maxlen-1)\n",
    "\n",
    "steps = 9\n",
    "x = np.zeros((1,maxlen,len(chars)))\n",
    "\n",
    "pred_arr = []\n",
    "\n",
    "labels = []\n",
    "\n",
    "for i in range(steps):\n",
    "    sen_i  = text[start:start+maxlen]\n",
    "    start  += maxlen\n",
    "    for t, char in enumerate(sen_i):\n",
    "        x[0, t, char_indices[char]] = 1\n",
    "        labels.append(char)\n",
    "    pred_i = activationModel.predict(x,verbose=0)[0]\n",
    "    pred_arr.append(pred_i)\n",
    "    \n",
    "pred_arr = np.array(pred_arr).reshape((15, 15, 100))\n",
    "labels = np.array(labels).reshape((15, 15))\n",
    "\n",
    "import seaborn as sns\n",
    "\n",
    "sns.heatmap(pred_arr[:, :, -2], annot = labels, fmt = '')\n",
    "sns.plt.show()\n"
   ]
  }
 ],
 "metadata": {
  "kernelspec": {
   "display_name": "Python 2",
   "language": "python",
   "name": "python2"
  },
  "language_info": {
   "codemirror_mode": {
    "name": "ipython",
    "version": 2
   },
   "file_extension": ".py",
   "mimetype": "text/x-python",
   "name": "python",
   "nbconvert_exporter": "python",
   "pygments_lexer": "ipython2",
   "version": "2.7.12"
  }
 },
 "nbformat": 4,
 "nbformat_minor": 2
}
